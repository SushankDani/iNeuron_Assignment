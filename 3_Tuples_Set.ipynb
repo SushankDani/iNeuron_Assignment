{
 "cells": [
  {
   "cell_type": "markdown",
   "id": "b5befeb9",
   "metadata": {},
   "source": [
    "## Assignment 3 - Tuples, Set\n",
    "\n",
    "### By - SUSHANK DANI\n",
    "\n",
    "### Date of Submission - 21.11.2021"
   ]
  },
  {
   "cell_type": "markdown",
   "id": "5bd3e84d",
   "metadata": {},
   "source": [
    "===================================================================================================================\n",
    "\n",
    "==================================================================================================================="
   ]
  },
  {
   "cell_type": "markdown",
   "id": "cd4f9eee",
   "metadata": {},
   "source": [
    "<b><u> Question 1.1 - </u> <br>Write a Python Program to implement your own myreduce() function which works exactly like Python's built-in function reduce()<br></b>\n",
    "\n",
    "<u> Solution - </u>"
   ]
  },
  {
   "cell_type": "code",
   "execution_count": 174,
   "id": "59c958b7",
   "metadata": {
    "scrolled": true
   },
   "outputs": [
    {
     "name": "stdout",
     "output_type": "stream",
     "text": [
      "(A) Using the USER DEFINED funcion myreduce() to calculate the factorial of a number\n",
      "Input :\n",
      "The entered number is 6 :\n",
      "Output :\n",
      "The factorial of number '6' is '720'.\n"
     ]
    }
   ],
   "source": [
    "## Getting the factorial of any number\n",
    "\n",
    "def myreduce(num) :\n",
    "    '''This function will return the factorial of the number'''\n",
    "    fact = 1\n",
    "    i = num\n",
    "    while i > 0 :\n",
    "        fact = fact * i\n",
    "        i = i - 1\n",
    "    return num, fact\n",
    "\n",
    "print(\"(A) Using the USER DEFINED funcion myreduce() to calculate the factorial of a number\")\n",
    "print(\"Input :\")\n",
    "number = int(input(\"Enter the number to calculate the factorial : \"))\n",
    "print(\"The entered number is {} :\".format(number))\n",
    "\n",
    "## Executing the function\n",
    "\n",
    "output_1 = myreduce(number)\n",
    "print(\"Output :\")\n",
    "print(\"The factorial of number '{}' is '{}'.\".format(output_1[0], output_1[1]))\n"
   ]
  },
  {
   "cell_type": "code",
   "execution_count": 176,
   "id": "8a065534",
   "metadata": {},
   "outputs": [
    {
     "name": "stdout",
     "output_type": "stream",
     "text": [
      "(B) Using the IN-BUILT funcion reduce() to calculate the factorial of a number\n",
      "Input :\n",
      "The entered number is 6 :\n",
      "Output :\n",
      "The factorial of number '6' is '720'.\n"
     ]
    }
   ],
   "source": [
    "print(\"(B) Using the IN-BUILT funcion reduce() to calculate the factorial of a number\")\n",
    "print(\"Input :\")\n",
    "number = int(input(\"Enter the number to calculate the factorial : \"))\n",
    "print(\"The entered number is {} :\".format(number))\n",
    "\n",
    "num_list = list(range(1,number+1))\n",
    "## Import reduce function\n",
    "from functools import reduce\n",
    "fact = reduce((lambda x, y : x * y), num_list)\n",
    "\n",
    "## Output\n",
    "\n",
    "print(\"Output :\")\n",
    "print(\"The factorial of number '{}' is '{}'.\".format(number, fact))\n"
   ]
  },
  {
   "cell_type": "markdown",
   "id": "1e1f54c8",
   "metadata": {},
   "source": [
    "==================================================================================================================="
   ]
  },
  {
   "cell_type": "markdown",
   "id": "cd4f9eee",
   "metadata": {},
   "source": [
    "<b><u> Question 1.2 - </u> <br>Write a Python Program to implement your own myfilter() function which works exactly like Python's built-in function filter()<br></b>\n",
    "\n",
    "<u> Solution - </u>"
   ]
  },
  {
   "cell_type": "code",
   "execution_count": 178,
   "id": "216370a5",
   "metadata": {},
   "outputs": [
    {
     "name": "stdout",
     "output_type": "stream",
     "text": [
      "(A) Using the USER DEFINED funcion myfilter() to calculate the divisibility of a number by 3 and 7 both.\n",
      "Input :\n",
      "The random list of 35 such number which are between 0 and 100 are : \n",
      "[24 70 87 33 42 22 87 92 19 17 26 61  5  7 95 97 13 47 22 27 51 57 90 48\n",
      " 14 48  1 11 96 47 93 12 28 21 87]\n",
      "Output :\n",
      "From the above random list of number, the number list which are divisble by 3 and 7 both are '[42, 21]'.\n"
     ]
    }
   ],
   "source": [
    "# Problem statement - From the list of random integer find out the number which is divisble by 3 and 7 both.\n",
    "\n",
    "print(\"(A) Using the USER DEFINED funcion myfilter() to calculate the divisibility of a number by 3 and 7 both.\")\n",
    "## Creating a list of 35 random integer between 0 to 100 numbers\n",
    "import numpy as np\n",
    "import pandas as pd\n",
    "\n",
    "random_list = np.array(np.random.randint(0,100,size = 35))\n",
    "\n",
    "## Defining a user defined function which checks the divisibility of number from a random list\n",
    "def div_5_7(random_list) :\n",
    "    list_div_5_7 = []\n",
    "    for i in random_list :\n",
    "        if (i % 3) == 0 and (i % 7) == 0 :\n",
    "            list_div_5_7.append(i)\n",
    "    return list_div_5_7\n",
    "\n",
    "## Input\n",
    "print(\"Input :\")\n",
    "print(\"The random list of 35 such number which are between 0 and 100 are : \\n{}\".format(random_list))\n",
    "\n",
    "## Executing the function\n",
    "output_2 = div_5_7(random_list)\n",
    "print(\"Output :\")\n",
    "print(\"From the above random list of number, the number list which are divisble by 3 and 7 both are '{}'.\".format(output_2))"
   ]
  },
  {
   "cell_type": "code",
   "execution_count": 179,
   "id": "bad76798",
   "metadata": {},
   "outputs": [
    {
     "name": "stdout",
     "output_type": "stream",
     "text": [
      "(B) Using the IN-BUILT funcion filter() to calculate the divisibility of a number by 3 and 7 both.\n",
      "Input :\n",
      "The random list of 35 such number which are between 0 and 100 are : \n",
      "[24 70 87 33 42 22 87 92 19 17 26 61  5  7 95 97 13 47 22 27 51 57 90 48\n",
      " 14 48  1 11 96 47 93 12 28 21 87]\n",
      "Output :\n",
      "From the above random list of number, the number list which are divisble by 3 and 7 both are '[42, 21]'.\n"
     ]
    }
   ],
   "source": [
    "print(\"(B) Using the IN-BUILT funcion filter() to calculate the divisibility of a number by 3 and 7 both.\")\n",
    "\n",
    "print(\"Input :\")\n",
    "print(\"The random list of 35 such number which are between 0 and 100 are : \\n{}\".format(random_list))\n",
    "\n",
    "num_list_2 = list(filter(lambda x: x%3==0, list(filter(lambda x: x%7 == 0, random_list))))\n",
    "\n",
    "print(\"Output :\")\n",
    "print(\"From the above random list of number, the number list which are divisble by 3 and 7 both are '{}'.\".format(num_list_2))"
   ]
  },
  {
   "cell_type": "markdown",
   "id": "348040ff",
   "metadata": {},
   "source": [
    "==================================================================================================================="
   ]
  },
  {
   "cell_type": "markdown",
   "id": "52eb5e71",
   "metadata": {},
   "source": [
    "<b><u> Question 2 - </u> <br>Implement List comprehensions to produce the following lists. Write List comprehensions to produce the following Lists - \n",
    "<br>2.1 - ['A', 'C', 'A', 'D', 'G', 'I', ’L’, ‘ D’]\n",
    "<br>2.2 - ['x', 'xx', 'xxx', 'xxxx', 'y', 'yy', 'yyy', 'yyyy', 'z', 'zz', 'zzz', 'zzzz']\n",
    "<br>2.3 - ['x', 'y', 'z', 'xx', 'yy', 'zz', 'xxx', 'yyy', 'zzz', 'xxxx', 'yyyy', 'zzzz']\n",
    "<br>2.4 - [[2], [3], [4], [3], [4], [5], [4], [5], [6]] \n",
    "<br>2.5 - [[2, 3, 4, 5], [3, 4, 5, 6], [4, 5, 6, 7], [5, 6, 7, 8]] \n",
    "<br>2.6 - [(1, 1), (2, 1), (3, 1), (1, 2), (2, 2), (3, 2), (1, 3), (2, 3), (3, 3)]<br></b>\n",
    "\n",
    "<u> Solution - </u>"
   ]
  },
  {
   "cell_type": "code",
   "execution_count": 9,
   "id": "b24f95a7",
   "metadata": {},
   "outputs": [
    {
     "name": "stdout",
     "output_type": "stream",
     "text": [
      "['A', 'C', 'A', 'D', 'G', 'I', 'L', 'D']\n"
     ]
    }
   ],
   "source": [
    "\"SOLUTION 2.1 - \"\n",
    "\n",
    "input_2_1 = \"acadgild\"\n",
    "\n",
    "result_2_1 = [x.upper() for x in input_2_1]\n",
    "\n",
    "print(result_2_1)"
   ]
  },
  {
   "cell_type": "code",
   "execution_count": 4,
   "id": "4cd46429",
   "metadata": {},
   "outputs": [
    {
     "name": "stdout",
     "output_type": "stream",
     "text": [
      "['x', 'xx', 'xxx', 'xxxx', 'y', 'yy', 'yyy', 'yyyy', 'z', 'zz', 'zzz', 'zzzz']\n"
     ]
    }
   ],
   "source": [
    "\"SOLUTION 2.2 - \"\n",
    "\n",
    "list_2_2 = ['x', 'y', 'z']\n",
    "\n",
    "result_2_2 = [list_2_2[x]*n for x in range(len(list_2_2)) for n in range(1,5)]\n",
    "\n",
    "print(result_2_2)"
   ]
  },
  {
   "cell_type": "code",
   "execution_count": 5,
   "id": "a3200f03",
   "metadata": {},
   "outputs": [
    {
     "name": "stdout",
     "output_type": "stream",
     "text": [
      "['x', 'y', 'z', 'xx', 'yy', 'zz', 'xxx', 'yyy', 'zzz', 'xxxx', 'yyyy', 'zzzz']\n"
     ]
    }
   ],
   "source": [
    "\"SOLUTION 2.3 - \"\n",
    "\n",
    "list_2_3 = ['x', 'y', 'z']\n",
    "\n",
    "result_2_3 = [list_2_3[i]*n for n in range(1,5) for i in range(len(list_2_3))]\n",
    "\n",
    "print(result_2_3)"
   ]
  },
  {
   "cell_type": "code",
   "execution_count": 6,
   "id": "98a4033f",
   "metadata": {},
   "outputs": [
    {
     "name": "stdout",
     "output_type": "stream",
     "text": [
      "[[2], [3], [4], [3], [4], [5], [4], [5], [6]]\n"
     ]
    }
   ],
   "source": [
    "\"SOLUTION 2.4 - \"\n",
    "\n",
    "input_2_4 = [2,3,4]\n",
    "\n",
    "list_2_4 = [[x+n] for x in range(0,3) for n in input_2_4]\n",
    "\n",
    "print(list_2_4)"
   ]
  },
  {
   "cell_type": "code",
   "execution_count": 7,
   "id": "488ff231",
   "metadata": {},
   "outputs": [
    {
     "name": "stdout",
     "output_type": "stream",
     "text": [
      "[[2, 3, 4, 5], [3, 4, 5, 6], [4, 5, 6, 7], [5, 6, 7, 8]]\n"
     ]
    }
   ],
   "source": [
    "\"SOLUTION 2.5 - \"\n",
    "\n",
    "input_2_5 = [2,3,4,5]\n",
    "\n",
    "list_2_5 = [[x+n for x in range(0,4)] for n in input_2_5]\n",
    "\n",
    "print(list_2_5)\n"
   ]
  },
  {
   "cell_type": "code",
   "execution_count": 8,
   "id": "767e8f0f",
   "metadata": {},
   "outputs": [
    {
     "name": "stdout",
     "output_type": "stream",
     "text": [
      "[(1, 1), (1, 2), (1, 3), (2, 1), (2, 2), (2, 3), (3, 1), (3, 2), (3, 3)]\n"
     ]
    }
   ],
   "source": [
    "\"SOLUTION 2.6 - \"\n",
    "\n",
    "input_2_6 = [1,2,3]\n",
    "\n",
    "list_2_6 = [(x,n) for x in input_2_6 for n in input_2_6]\n",
    "\n",
    "print(list_2_6)"
   ]
  },
  {
   "cell_type": "markdown",
   "id": "d4a9ea51",
   "metadata": {},
   "source": [
    "===================================================================================================================<br>\n",
    "\n",
    "===================================================================================================================<br>\n",
    "## END OF ASSIGNMENT"
   ]
  }
 ],
 "metadata": {
  "kernelspec": {
   "display_name": "Python 3 (ipykernel)",
   "language": "python",
   "name": "python3"
  },
  "language_info": {
   "codemirror_mode": {
    "name": "ipython",
    "version": 3
   },
   "file_extension": ".py",
   "mimetype": "text/x-python",
   "name": "python",
   "nbconvert_exporter": "python",
   "pygments_lexer": "ipython3",
   "version": "3.10.0"
  }
 },
 "nbformat": 4,
 "nbformat_minor": 5
}
